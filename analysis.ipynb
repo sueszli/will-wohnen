{
 "cells": [
  {
   "cell_type": "code",
   "execution_count": 1,
   "metadata": {},
   "outputs": [
    {
     "name": "stdout",
     "output_type": "stream",
     "text": [
      "running async fetches...\n",
      "parsing all links...\n",
      "dumping 438/444 links to file...\n"
     ]
    },
    {
     "data": {
      "text/plain": [
       "0"
      ]
     },
     "execution_count": 1,
     "metadata": {},
     "output_type": "execute_result"
    }
   ],
   "source": [
    "import os\n",
    "os.system(\"python3.11 src/scrape_links.py\")"
   ]
  },
  {
   "cell_type": "code",
   "execution_count": 6,
   "metadata": {},
   "outputs": [
    {
     "name": "stdout",
     "output_type": "stream",
     "text": [
      "running async fetches...\n",
      "parsing all pages...\n",
      "dumping all pages...\n"
     ]
    },
    {
     "data": {
      "text/plain": [
       "0"
      ]
     },
     "execution_count": 6,
     "metadata": {},
     "output_type": "execute_result"
    }
   ],
   "source": [
    "import os\n",
    "os.system(\"python3.11 src/scrape_pages.py\")"
   ]
  },
  {
   "cell_type": "code",
   "execution_count": 21,
   "metadata": {},
   "outputs": [
    {
     "name": "stdout",
     "output_type": "stream",
     "text": [
      "cleaning data...\n",
      "removing 16 rows with price >= 150000...\n",
      "removing 25 rows with invalid district...\n",
      "final length: 397\n"
     ]
    },
    {
     "data": {
      "text/html": [
       "<div>\n",
       "<style scoped>\n",
       "    .dataframe tbody tr th:only-of-type {\n",
       "        vertical-align: middle;\n",
       "    }\n",
       "\n",
       "    .dataframe tbody tr th {\n",
       "        vertical-align: top;\n",
       "    }\n",
       "\n",
       "    .dataframe thead th {\n",
       "        text-align: right;\n",
       "    }\n",
       "</style>\n",
       "<table border=\"1\" class=\"dataframe\">\n",
       "  <thead>\n",
       "    <tr style=\"text-align: right;\">\n",
       "      <th></th>\n",
       "      <th>url</th>\n",
       "      <th>last_update</th>\n",
       "      <th>price</th>\n",
       "      <th>district</th>\n",
       "      <th>bag_of_words</th>\n",
       "      <th>neubau</th>\n",
       "      <th>area</th>\n",
       "      <th>rooms</th>\n",
       "      <th>needs_fix</th>\n",
       "      <th>leased</th>\n",
       "    </tr>\n",
       "  </thead>\n",
       "  <tbody>\n",
       "    <tr>\n",
       "      <th>0</th>\n",
       "      <td>https://www.willhaben.at/iad/immobilien/d/eige...</td>\n",
       "      <td>2024-04-06 06:55:00</td>\n",
       "      <td>149000.91</td>\n",
       "      <td>1050</td>\n",
       "      <td>perfekte starterwohnung in historischem altbau...</td>\n",
       "      <td>False</td>\n",
       "      <td>29.14</td>\n",
       "      <td>1.0</td>\n",
       "      <td>True</td>\n",
       "      <td>False</td>\n",
       "    </tr>\n",
       "    <tr>\n",
       "      <th>2</th>\n",
       "      <td>https://www.willhaben.at/iad/immobilien/d/eige...</td>\n",
       "      <td>2024-03-18 10:36:00</td>\n",
       "      <td>139000.00</td>\n",
       "      <td>1210</td>\n",
       "      <td>vermietete garçonniere in toplagezum verkauf g...</td>\n",
       "      <td>None</td>\n",
       "      <td>34.00</td>\n",
       "      <td>1.0</td>\n",
       "      <td>None</td>\n",
       "      <td>None</td>\n",
       "    </tr>\n",
       "    <tr>\n",
       "      <th>3</th>\n",
       "      <td>https://www.willhaben.at/iad/immobilien/d/eige...</td>\n",
       "      <td>2024-04-03 09:10:00</td>\n",
       "      <td>146000.00</td>\n",
       "      <td>1160</td>\n",
       "      <td>freundliche mini-wohnung mit niedrigen betrieb...</td>\n",
       "      <td>False</td>\n",
       "      <td>32.00</td>\n",
       "      <td>1.0</td>\n",
       "      <td>False</td>\n",
       "      <td>False</td>\n",
       "    </tr>\n",
       "    <tr>\n",
       "      <th>4</th>\n",
       "      <td>https://www.willhaben.at/iad/immobilien/d/eige...</td>\n",
       "      <td>2024-04-02 15:46:00</td>\n",
       "      <td>99000.00</td>\n",
       "      <td>1160</td>\n",
       "      <td>kleinwohnung in ruhelage mit direktem hofzugan...</td>\n",
       "      <td>False</td>\n",
       "      <td>30.00</td>\n",
       "      <td>2.0</td>\n",
       "      <td>True</td>\n",
       "      <td>False</td>\n",
       "    </tr>\n",
       "    <tr>\n",
       "      <th>5</th>\n",
       "      <td>https://www.willhaben.at/iad/immobilien/d/eige...</td>\n",
       "      <td>2024-04-03 19:35:00</td>\n",
       "      <td>125970.00</td>\n",
       "      <td>1170</td>\n",
       "      <td>* 1170 * hochparterre * unbefristet vermietet ...</td>\n",
       "      <td>False</td>\n",
       "      <td>37.05</td>\n",
       "      <td>NaN</td>\n",
       "      <td>None</td>\n",
       "      <td>None</td>\n",
       "    </tr>\n",
       "    <tr>\n",
       "      <th>...</th>\n",
       "      <td>...</td>\n",
       "      <td>...</td>\n",
       "      <td>...</td>\n",
       "      <td>...</td>\n",
       "      <td>...</td>\n",
       "      <td>...</td>\n",
       "      <td>...</td>\n",
       "      <td>...</td>\n",
       "      <td>...</td>\n",
       "      <td>...</td>\n",
       "    </tr>\n",
       "    <tr>\n",
       "      <th>433</th>\n",
       "      <td>https://www.willhaben.at/iad/immobilien/d/eige...</td>\n",
       "      <td>2024-03-30 18:34:00</td>\n",
       "      <td>110000.00</td>\n",
       "      <td>1170</td>\n",
       "      <td>1 zimmer eigentumswohnung nahe hernals s-bahnz...</td>\n",
       "      <td>False</td>\n",
       "      <td>NaN</td>\n",
       "      <td>NaN</td>\n",
       "      <td>None</td>\n",
       "      <td>False</td>\n",
       "    </tr>\n",
       "    <tr>\n",
       "      <th>434</th>\n",
       "      <td>https://www.willhaben.at/iad/immobilien/d/eige...</td>\n",
       "      <td>2024-04-02 19:49:00</td>\n",
       "      <td>149000.00</td>\n",
       "      <td>1110</td>\n",
       "      <td>*preis-reduziert* schöne 2-zimmer-wohnung in g...</td>\n",
       "      <td>False</td>\n",
       "      <td>39.00</td>\n",
       "      <td>2.0</td>\n",
       "      <td>False</td>\n",
       "      <td>None</td>\n",
       "    </tr>\n",
       "    <tr>\n",
       "      <th>435</th>\n",
       "      <td>https://www.willhaben.at/iad/immobilien/d/eige...</td>\n",
       "      <td>2024-04-02 04:37:00</td>\n",
       "      <td>106500.00</td>\n",
       "      <td>1160</td>\n",
       "      <td>renovierungsbedürftige wohnung für nur 106.500...</td>\n",
       "      <td>False</td>\n",
       "      <td>27.34</td>\n",
       "      <td>1.0</td>\n",
       "      <td>True</td>\n",
       "      <td>None</td>\n",
       "    </tr>\n",
       "    <tr>\n",
       "      <th>436</th>\n",
       "      <td>https://www.willhaben.at/iad/immobilien/d/eige...</td>\n",
       "      <td>2024-04-02 04:38:00</td>\n",
       "      <td>139000.00</td>\n",
       "      <td>1150</td>\n",
       "      <td>nähe u3-station johnstraße - baubewilligter ba...</td>\n",
       "      <td>False</td>\n",
       "      <td>50.35</td>\n",
       "      <td>2.0</td>\n",
       "      <td>None</td>\n",
       "      <td>True</td>\n",
       "    </tr>\n",
       "    <tr>\n",
       "      <th>437</th>\n",
       "      <td>https://www.willhaben.at/iad/immobilien/d/eige...</td>\n",
       "      <td>2024-03-28 12:00:00</td>\n",
       "      <td>119000.00</td>\n",
       "      <td>1150</td>\n",
       "      <td>#sq - unbefristet vermietet altbauwohnung in t...</td>\n",
       "      <td>False</td>\n",
       "      <td>48.20</td>\n",
       "      <td>2.0</td>\n",
       "      <td>None</td>\n",
       "      <td>None</td>\n",
       "    </tr>\n",
       "  </tbody>\n",
       "</table>\n",
       "<p>397 rows × 10 columns</p>\n",
       "</div>"
      ],
      "text/plain": [
       "                                                   url         last_update  \\\n",
       "0    https://www.willhaben.at/iad/immobilien/d/eige... 2024-04-06 06:55:00   \n",
       "2    https://www.willhaben.at/iad/immobilien/d/eige... 2024-03-18 10:36:00   \n",
       "3    https://www.willhaben.at/iad/immobilien/d/eige... 2024-04-03 09:10:00   \n",
       "4    https://www.willhaben.at/iad/immobilien/d/eige... 2024-04-02 15:46:00   \n",
       "5    https://www.willhaben.at/iad/immobilien/d/eige... 2024-04-03 19:35:00   \n",
       "..                                                 ...                 ...   \n",
       "433  https://www.willhaben.at/iad/immobilien/d/eige... 2024-03-30 18:34:00   \n",
       "434  https://www.willhaben.at/iad/immobilien/d/eige... 2024-04-02 19:49:00   \n",
       "435  https://www.willhaben.at/iad/immobilien/d/eige... 2024-04-02 04:37:00   \n",
       "436  https://www.willhaben.at/iad/immobilien/d/eige... 2024-04-02 04:38:00   \n",
       "437  https://www.willhaben.at/iad/immobilien/d/eige... 2024-03-28 12:00:00   \n",
       "\n",
       "         price district                                       bag_of_words  \\\n",
       "0    149000.91     1050  perfekte starterwohnung in historischem altbau...   \n",
       "2    139000.00     1210  vermietete garçonniere in toplagezum verkauf g...   \n",
       "3    146000.00     1160  freundliche mini-wohnung mit niedrigen betrieb...   \n",
       "4     99000.00     1160  kleinwohnung in ruhelage mit direktem hofzugan...   \n",
       "5    125970.00     1170  * 1170 * hochparterre * unbefristet vermietet ...   \n",
       "..         ...      ...                                                ...   \n",
       "433  110000.00     1170  1 zimmer eigentumswohnung nahe hernals s-bahnz...   \n",
       "434  149000.00     1110  *preis-reduziert* schöne 2-zimmer-wohnung in g...   \n",
       "435  106500.00     1160  renovierungsbedürftige wohnung für nur 106.500...   \n",
       "436  139000.00     1150  nähe u3-station johnstraße - baubewilligter ba...   \n",
       "437  119000.00     1150  #sq - unbefristet vermietet altbauwohnung in t...   \n",
       "\n",
       "    neubau   area  rooms needs_fix leased  \n",
       "0    False  29.14    1.0      True  False  \n",
       "2     None  34.00    1.0      None   None  \n",
       "3    False  32.00    1.0     False  False  \n",
       "4    False  30.00    2.0      True  False  \n",
       "5    False  37.05    NaN      None   None  \n",
       "..     ...    ...    ...       ...    ...  \n",
       "433  False    NaN    NaN      None  False  \n",
       "434  False  39.00    2.0     False   None  \n",
       "435  False  27.34    1.0      True   None  \n",
       "436  False  50.35    2.0      None   True  \n",
       "437  False  48.20    2.0      None   None  \n",
       "\n",
       "[397 rows x 10 columns]"
      ]
     },
     "execution_count": 21,
     "metadata": {},
     "output_type": "execute_result"
    }
   ],
   "source": [
    "from src.clean_data import get_cleaned_data\n",
    "\n",
    "df = get_cleaned_data()\n",
    "df"
   ]
  },
  {
   "cell_type": "markdown",
   "metadata": {},
   "source": [
    "# pick best options"
   ]
  },
  {
   "cell_type": "code",
   "execution_count": 24,
   "metadata": {},
   "outputs": [
    {
     "name": "stdout",
     "output_type": "stream",
     "text": [
      "removed 99: needs_fix == True\n",
      "removed 10: leased == True\n",
      "removed 207: bag_of_words contains bad words\n",
      "final count: 81\n",
      "progress 27.16%\r"
     ]
    },
    {
     "name": "stderr",
     "output_type": "stream",
     "text": [
      "0:202: execution error: File some object wasn’t found. (-43)\n",
      "69:77: execution error: Can’t get application \"chrome\". (-1728)\n",
      "70:78: execution error: Can’t get application \"firefox\". (-1728)\n"
     ]
    },
    {
     "name": "stdout",
     "output_type": "stream",
     "text": [
      "progress 100.00%\r"
     ]
    }
   ],
   "source": [
    "import webbrowser\n",
    "import pandas as pd\n",
    "\n",
    "\n",
    "def remove_deal_breakers(df_arg: pd.DataFrame) -> pd.DataFrame:\n",
    "    dfcpy = df_arg.copy()\n",
    "\n",
    "    prev_len = len(dfcpy)\n",
    "    dfcpy = dfcpy[dfcpy['needs_fix'] != True]\n",
    "    print(f\"removed {prev_len - len(dfcpy)}: needs_fix == True\")\n",
    "\n",
    "    prev_len = len(dfcpy)\n",
    "    dfcpy = dfcpy[dfcpy['leased'] != True]\n",
    "    print(f\"removed {prev_len - len(dfcpy)}: leased == True\")\n",
    "\n",
    "    bad_words = [\n",
    "        \"unbefristet\",\n",
    "        \"befristet\",\n",
    "        # \"renovierung\",\n",
    "        \"renovier\",\n",
    "        # \"sanierung\",\n",
    "        \"sanier\",\n",
    "    ]\n",
    "    prev_len = len(dfcpy)\n",
    "    for word in bad_words:\n",
    "        dfcpy = dfcpy[~dfcpy['bag_of_words'].str.contains(word, case=False)]\n",
    "    print(f\"removed {prev_len - len(dfcpy)}: bag_of_words contains bad words\")\n",
    "\n",
    "    assert type(dfcpy) == pd.DataFrame\n",
    "    return dfcpy\n",
    "\n",
    "\n",
    "def remove_non_premium(df_arg: pd.DataFrame) -> pd.DataFrame:\n",
    "    dfcpy = df_arg.copy()\n",
    "\n",
    "    prev_len = len(dfcpy)\n",
    "    dfcpy = dfcpy[dfcpy[\"neubau\"] != False]\n",
    "    print(f\"removed {prev_len - len(dfcpy)}: neubau == (False, None)\")\n",
    "\n",
    "    prev_len = len(dfcpy)\n",
    "    good_words = [\n",
    "        \"südseitig\",\n",
    "    ]\n",
    "    for word in good_words:\n",
    "        dfcpy = dfcpy[dfcpy['bag_of_words'].str.contains(word, case=False)]\n",
    "    print(f\"removed {prev_len - len(dfcpy)}: bag_of_words does not contain good words\")\n",
    "\n",
    "    assert type(dfcpy) == pd.DataFrame\n",
    "    return dfcpy\n",
    "\n",
    "\n",
    "dfcpy = remove_deal_breakers(df)\n",
    "# dfcpy = remove_non_premium(dfcpy)\n",
    "print(\"final count:\", len(dfcpy))\n",
    "\n",
    "dfcpy = dfcpy.sort_values(by='price', ascending=True) # type: ignore\n",
    "\n",
    "urls = dfcpy['url'].tolist()\n",
    "counter = 0\n",
    "for url in urls:\n",
    "    counter += 1\n",
    "    print(f\"progress {counter/len(urls)*100:.2f}%\", end=\"\\r\")\n",
    "    webbrowser.open(url)\n"
   ]
  },
  {
   "cell_type": "code",
   "execution_count": 20,
   "metadata": {},
   "outputs": [
    {
     "name": "stderr",
     "output_type": "stream",
     "text": [
      "/var/folders/bh/4ympj4l52bs8wxpg114kdh1m0000gn/T/ipykernel_69587/647368856.py:11: UserWarning: set_ticklabels() should only be used with a fixed number of ticks, i.e. after set_ticks() or using a FixedLocator.\n",
      "  axs[0, 0].set_xticklabels(df[\"last_update\"].dt.strftime('%Y-%m-%d'), rotation=90, fontsize=7)\n"
     ]
    },
    {
     "data": {
      "image/png": "[encoded data removed]",
      "text/plain": [
       "<Figure size 1500x1500 with 4 Axes>"
      ]
     },
     "metadata": {},
     "output_type": "display_data"
    }
   ],
   "source": [
    "import matplotlib.pyplot as plt\n",
    "\n",
    "df = dfcpy # comment out to use original df\n",
    "\n",
    "fig, axs = plt.subplots(2, 2, figsize=(15, 15))\n",
    "\n",
    "\n",
    "df = df.sort_values(by=\"last_update\")\n",
    "axs[0, 0].set_title(\"last updates\")\n",
    "axs[0, 0].hist(df[\"last_update\"], bins=len(df) // 2, color=\"blue\", alpha=0.5)\n",
    "axs[0, 0].set_xticklabels(df[\"last_update\"].dt.strftime('%Y-%m-%d'), rotation=90, fontsize=7)\n",
    "axs[0, 0].set_ylabel(\"count\")\n",
    "\n",
    "axs[0, 1].set_title(\"price distribution\")\n",
    "axs[0, 1].hist(df[\"price\"], bins=len(df) // 2, color=\"green\", alpha=0.5)\n",
    "axs[0, 1].set_xlabel(\"EUR\")\n",
    "axs[0, 1].set_ylabel(\"count\")\n",
    "\n",
    "df = df.sort_values(by=\"district\")\n",
    "axs[1, 0].set_title(\"districts\")\n",
    "axs[1, 0].hist(df.sort_values(by=\"district\")[\"district\"], bins=len(df) // 2, color=\"red\", alpha=0.5)\n",
    "axs[1, 0].set_xticks(range(len(df[\"district\"].unique())))\n",
    "axs[1, 0].set_xticklabels(df[\"district\"].unique(), rotation=90)\n",
    "axs[1, 0].set_xlabel(\"district\")\n",
    "axs[1, 0].set_ylabel(\"count\")\n",
    "\n",
    "axs[1, 1].set_title(\"area\")\n",
    "axs[1, 1].hist(df[\"area\"], bins=len(df) // 2, color=\"blue\", alpha=0.5)\n",
    "axs[1, 1].set_xlabel(\"m²\")\n",
    "axs[1, 1].set_ylabel(\"count\")\n",
    "\n",
    "plt.show()"
   ]
  },
  {
   "cell_type": "code",
   "execution_count": null,
   "metadata": {},
   "outputs": [],
   "source": []
  }
 ],
 "metadata": {
  "kernelspec": {
   "display_name": "Python 3",
   "language": "python",
   "name": "python3"
  },
  "language_info": {
   "codemirror_mode": {
    "name": "ipython",
    "version": 3
   },
   "file_extension": ".py",
   "mimetype": "text/x-python",
   "name": "python",
   "nbconvert_exporter": "python",
   "pygments_lexer": "ipython3",
   "version": "3.11.8"
  }
 },
 "nbformat": 4,
 "nbformat_minor": 2
}
