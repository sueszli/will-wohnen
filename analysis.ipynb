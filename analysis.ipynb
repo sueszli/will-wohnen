{
 "cells": [
  {
   "cell_type": "code",
   "execution_count": 1,
   "metadata": {},
   "outputs": [
    {
     "name": "stdout",
     "output_type": "stream",
     "text": [
      "cleaning data...\n",
      "removing 16 rows with price >= 150000...\n",
      "removing 25 rows with invalid district...\n",
      "final length: 397\n"
     ]
    },
    {
     "data": {
      "text/html": [
       "<div>\n",
       "<style scoped>\n",
       "    .dataframe tbody tr th:only-of-type {\n",
       "        vertical-align: middle;\n",
       "    }\n",
       "\n",
       "    .dataframe tbody tr th {\n",
       "        vertical-align: top;\n",
       "    }\n",
       "\n",
       "    .dataframe thead th {\n",
       "        text-align: right;\n",
       "    }\n",
       "</style>\n",
       "<table border=\"1\" class=\"dataframe\">\n",
       "  <thead>\n",
       "    <tr style=\"text-align: right;\">\n",
       "      <th></th>\n",
       "      <th>url</th>\n",
       "      <th>last_update</th>\n",
       "      <th>price</th>\n",
       "      <th>district</th>\n",
       "      <th>bag_of_words</th>\n",
       "      <th>neubau</th>\n",
       "      <th>area</th>\n",
       "      <th>rooms</th>\n",
       "      <th>needs_fix</th>\n",
       "      <th>leased</th>\n",
       "    </tr>\n",
       "  </thead>\n",
       "  <tbody>\n",
       "    <tr>\n",
       "      <th>0</th>\n",
       "      <td>https://www.willhaben.at/iad/immobilien/d/eige...</td>\n",
       "      <td>2024-04-02 12:18:00</td>\n",
       "      <td>119500.0</td>\n",
       "      <td>1160</td>\n",
       "      <td>4 wohneinheiten einzeln oder im paket - nähe l...</td>\n",
       "      <td>False</td>\n",
       "      <td>30.81</td>\n",
       "      <td>1.0</td>\n",
       "      <td>None</td>\n",
       "      <td>False</td>\n",
       "    </tr>\n",
       "    <tr>\n",
       "      <th>1</th>\n",
       "      <td>https://www.willhaben.at/iad/immobilien/d/eige...</td>\n",
       "      <td>2024-04-05 16:10:00</td>\n",
       "      <td>149000.0</td>\n",
       "      <td>1210</td>\n",
       "      <td>do it yourself-rohdiamant!diese immobilie wird...</td>\n",
       "      <td>False</td>\n",
       "      <td>52.70</td>\n",
       "      <td>2.0</td>\n",
       "      <td>True</td>\n",
       "      <td>None</td>\n",
       "    </tr>\n",
       "    <tr>\n",
       "      <th>2</th>\n",
       "      <td>https://www.willhaben.at/iad/immobilien/d/eige...</td>\n",
       "      <td>2024-04-06 07:24:00</td>\n",
       "      <td>129000.0</td>\n",
       "      <td>1160</td>\n",
       "      <td>leistbares wohnen in schöner lage - charmanter...</td>\n",
       "      <td>False</td>\n",
       "      <td>32.95</td>\n",
       "      <td>1.0</td>\n",
       "      <td>False</td>\n",
       "      <td>False</td>\n",
       "    </tr>\n",
       "    <tr>\n",
       "      <th>3</th>\n",
       "      <td>https://www.willhaben.at/iad/immobilien/d/eige...</td>\n",
       "      <td>2024-04-04 10:27:00</td>\n",
       "      <td>133250.0</td>\n",
       "      <td>1100</td>\n",
       "      <td>eckert 19 - charmante wohnungen - im herzen de...</td>\n",
       "      <td>False</td>\n",
       "      <td>41.01</td>\n",
       "      <td>2.0</td>\n",
       "      <td>False</td>\n",
       "      <td>None</td>\n",
       "    </tr>\n",
       "    <tr>\n",
       "      <th>4</th>\n",
       "      <td>https://www.willhaben.at/iad/immobilien/d/eige...</td>\n",
       "      <td>2024-03-28 11:30:00</td>\n",
       "      <td>149000.0</td>\n",
       "      <td>1160</td>\n",
       "      <td>nach generalsanierung! 1-zimmerwohnung in 1160...</td>\n",
       "      <td>False</td>\n",
       "      <td>34.10</td>\n",
       "      <td>1.0</td>\n",
       "      <td>False</td>\n",
       "      <td>None</td>\n",
       "    </tr>\n",
       "    <tr>\n",
       "      <th>...</th>\n",
       "      <td>...</td>\n",
       "      <td>...</td>\n",
       "      <td>...</td>\n",
       "      <td>...</td>\n",
       "      <td>...</td>\n",
       "      <td>...</td>\n",
       "      <td>...</td>\n",
       "      <td>...</td>\n",
       "      <td>...</td>\n",
       "      <td>...</td>\n",
       "    </tr>\n",
       "    <tr>\n",
       "      <th>431</th>\n",
       "      <td>https://www.willhaben.at/iad/immobilien/d/eige...</td>\n",
       "      <td>2024-04-02 10:00:00</td>\n",
       "      <td>149000.0</td>\n",
       "      <td>1150</td>\n",
       "      <td>++hofseitig++1-zimmer altbauwohnung mit garten...</td>\n",
       "      <td>False</td>\n",
       "      <td>33.79</td>\n",
       "      <td>1.0</td>\n",
       "      <td>True</td>\n",
       "      <td>None</td>\n",
       "    </tr>\n",
       "    <tr>\n",
       "      <th>434</th>\n",
       "      <td>https://www.willhaben.at/iad/immobilien/d/eige...</td>\n",
       "      <td>2024-04-03 11:18:00</td>\n",
       "      <td>99000.0</td>\n",
       "      <td>1170</td>\n",
       "      <td>einzigartige gelegenheit in top lage dornbachs...</td>\n",
       "      <td>None</td>\n",
       "      <td>23.43</td>\n",
       "      <td>1.0</td>\n",
       "      <td>None</td>\n",
       "      <td>None</td>\n",
       "    </tr>\n",
       "    <tr>\n",
       "      <th>435</th>\n",
       "      <td>https://www.willhaben.at/iad/immobilien/d/eige...</td>\n",
       "      <td>2024-04-04 10:56:00</td>\n",
       "      <td>119800.0</td>\n",
       "      <td>1140</td>\n",
       "      <td>kleines apartment in hütteldorfkleines sanieru...</td>\n",
       "      <td>False</td>\n",
       "      <td>30.42</td>\n",
       "      <td>NaN</td>\n",
       "      <td>True</td>\n",
       "      <td>None</td>\n",
       "    </tr>\n",
       "    <tr>\n",
       "      <th>436</th>\n",
       "      <td>https://www.willhaben.at/iad/immobilien/d/eige...</td>\n",
       "      <td>2024-04-04 15:55:00</td>\n",
       "      <td>112000.0</td>\n",
       "      <td>1160</td>\n",
       "      <td>singlewohnung in wien - unweit s-bahn hernals ...</td>\n",
       "      <td>False</td>\n",
       "      <td>28.08</td>\n",
       "      <td>1.0</td>\n",
       "      <td>None</td>\n",
       "      <td>False</td>\n",
       "    </tr>\n",
       "    <tr>\n",
       "      <th>437</th>\n",
       "      <td>https://www.willhaben.at/iad/immobilien/d/eige...</td>\n",
       "      <td>2024-04-06 19:33:00</td>\n",
       "      <td>129000.0</td>\n",
       "      <td>1190</td>\n",
       "      <td>natürlich in döbling! anlage oder selbst bewoh...</td>\n",
       "      <td>True</td>\n",
       "      <td>24.62</td>\n",
       "      <td>1.0</td>\n",
       "      <td>None</td>\n",
       "      <td>None</td>\n",
       "    </tr>\n",
       "  </tbody>\n",
       "</table>\n",
       "<p>397 rows × 10 columns</p>\n",
       "</div>"
      ],
      "text/plain": [
       "                                                   url         last_update  \\\n",
       "0    https://www.willhaben.at/iad/immobilien/d/eige... 2024-04-02 12:18:00   \n",
       "1    https://www.willhaben.at/iad/immobilien/d/eige... 2024-04-05 16:10:00   \n",
       "2    https://www.willhaben.at/iad/immobilien/d/eige... 2024-04-06 07:24:00   \n",
       "3    https://www.willhaben.at/iad/immobilien/d/eige... 2024-04-04 10:27:00   \n",
       "4    https://www.willhaben.at/iad/immobilien/d/eige... 2024-03-28 11:30:00   \n",
       "..                                                 ...                 ...   \n",
       "431  https://www.willhaben.at/iad/immobilien/d/eige... 2024-04-02 10:00:00   \n",
       "434  https://www.willhaben.at/iad/immobilien/d/eige... 2024-04-03 11:18:00   \n",
       "435  https://www.willhaben.at/iad/immobilien/d/eige... 2024-04-04 10:56:00   \n",
       "436  https://www.willhaben.at/iad/immobilien/d/eige... 2024-04-04 15:55:00   \n",
       "437  https://www.willhaben.at/iad/immobilien/d/eige... 2024-04-06 19:33:00   \n",
       "\n",
       "        price district                                       bag_of_words  \\\n",
       "0    119500.0     1160  4 wohneinheiten einzeln oder im paket - nähe l...   \n",
       "1    149000.0     1210  do it yourself-rohdiamant!diese immobilie wird...   \n",
       "2    129000.0     1160  leistbares wohnen in schöner lage - charmanter...   \n",
       "3    133250.0     1100  eckert 19 - charmante wohnungen - im herzen de...   \n",
       "4    149000.0     1160  nach generalsanierung! 1-zimmerwohnung in 1160...   \n",
       "..        ...      ...                                                ...   \n",
       "431  149000.0     1150  ++hofseitig++1-zimmer altbauwohnung mit garten...   \n",
       "434   99000.0     1170  einzigartige gelegenheit in top lage dornbachs...   \n",
       "435  119800.0     1140  kleines apartment in hütteldorfkleines sanieru...   \n",
       "436  112000.0     1160  singlewohnung in wien - unweit s-bahn hernals ...   \n",
       "437  129000.0     1190  natürlich in döbling! anlage oder selbst bewoh...   \n",
       "\n",
       "    neubau   area  rooms needs_fix leased  \n",
       "0    False  30.81    1.0      None  False  \n",
       "1    False  52.70    2.0      True   None  \n",
       "2    False  32.95    1.0     False  False  \n",
       "3    False  41.01    2.0     False   None  \n",
       "4    False  34.10    1.0     False   None  \n",
       "..     ...    ...    ...       ...    ...  \n",
       "431  False  33.79    1.0      True   None  \n",
       "434   None  23.43    1.0      None   None  \n",
       "435  False  30.42    NaN      True   None  \n",
       "436  False  28.08    1.0      None  False  \n",
       "437   True  24.62    1.0      None   None  \n",
       "\n",
       "[397 rows x 10 columns]"
      ]
     },
     "execution_count": 1,
     "metadata": {},
     "output_type": "execute_result"
    }
   ],
   "source": [
    "from src.clean_data import get_cleaned_data\n",
    "\n",
    "df = get_cleaned_data()\n",
    "df"
   ]
  },
  {
   "cell_type": "markdown",
   "metadata": {},
   "source": [
    "# choose best"
   ]
  },
  {
   "cell_type": "code",
   "execution_count": 12,
   "metadata": {},
   "outputs": [
    {
     "name": "stdout",
     "output_type": "stream",
     "text": [
      "removed 99: needs_fix flag\n",
      "removed 10: leased flag\n",
      "removed 170: contained bad words\n",
      "final: 118\n",
      "progress 1.69%\r"
     ]
    },
    {
     "ename": "KeyboardInterrupt",
     "evalue": "",
     "output_type": "error",
     "traceback": [
      "\u001b[0;31m---------------------------------------------------------------------------\u001b[0m",
      "\u001b[0;31mKeyboardInterrupt\u001b[0m                         Traceback (most recent call last)",
      "Cell \u001b[0;32mIn[12], line 39\u001b[0m\n\u001b[1;32m     37\u001b[0m \u001b[38;5;28;01mfor\u001b[39;00m url \u001b[38;5;129;01min\u001b[39;00m urls:\n\u001b[1;32m     38\u001b[0m     \u001b[38;5;28mprint\u001b[39m(\u001b[38;5;124mf\u001b[39m\u001b[38;5;124m\"\u001b[39m\u001b[38;5;124mprogress \u001b[39m\u001b[38;5;132;01m{\u001b[39;00mcounter\u001b[38;5;241m/\u001b[39m\u001b[38;5;28mlen\u001b[39m(urls)\u001b[38;5;241m*\u001b[39m\u001b[38;5;241m100\u001b[39m\u001b[38;5;132;01m:\u001b[39;00m\u001b[38;5;124m.2f\u001b[39m\u001b[38;5;132;01m}\u001b[39;00m\u001b[38;5;124m%\u001b[39m\u001b[38;5;124m\"\u001b[39m, end\u001b[38;5;241m=\u001b[39m\u001b[38;5;124m\"\u001b[39m\u001b[38;5;130;01m\\r\u001b[39;00m\u001b[38;5;124m\"\u001b[39m)\n\u001b[0;32m---> 39\u001b[0m     \u001b[43mwebbrowser\u001b[49m\u001b[38;5;241;43m.\u001b[39;49m\u001b[43mopen\u001b[49m\u001b[43m(\u001b[49m\u001b[43murl\u001b[49m\u001b[43m)\u001b[49m\n\u001b[1;32m     40\u001b[0m     counter \u001b[38;5;241m+\u001b[39m\u001b[38;5;241m=\u001b[39m \u001b[38;5;241m1\u001b[39m\n",
      "File \u001b[0;32m/opt/homebrew/Cellar/python@3.11/3.11.8/Frameworks/Python.framework/Versions/3.11/lib/python3.11/webbrowser.py:87\u001b[0m, in \u001b[0;36mopen\u001b[0;34m(url, new, autoraise)\u001b[0m\n\u001b[1;32m     85\u001b[0m \u001b[38;5;28;01mfor\u001b[39;00m name \u001b[38;5;129;01min\u001b[39;00m _tryorder:\n\u001b[1;32m     86\u001b[0m     browser \u001b[38;5;241m=\u001b[39m get(name)\n\u001b[0;32m---> 87\u001b[0m     \u001b[38;5;28;01mif\u001b[39;00m \u001b[43mbrowser\u001b[49m\u001b[38;5;241;43m.\u001b[39;49m\u001b[43mopen\u001b[49m\u001b[43m(\u001b[49m\u001b[43murl\u001b[49m\u001b[43m,\u001b[49m\u001b[43m \u001b[49m\u001b[43mnew\u001b[49m\u001b[43m,\u001b[49m\u001b[43m \u001b[49m\u001b[43mautoraise\u001b[49m\u001b[43m)\u001b[49m:\n\u001b[1;32m     88\u001b[0m         \u001b[38;5;28;01mreturn\u001b[39;00m \u001b[38;5;28;01mTrue\u001b[39;00m\n\u001b[1;32m     89\u001b[0m \u001b[38;5;28;01mreturn\u001b[39;00m \u001b[38;5;28;01mFalse\u001b[39;00m\n",
      "File \u001b[0;32m/opt/homebrew/Cellar/python@3.11/3.11.8/Frameworks/Python.framework/Versions/3.11/lib/python3.11/webbrowser.py:707\u001b[0m, in \u001b[0;36mMacOSXOSAScript.open\u001b[0;34m(self, url, new, autoraise)\u001b[0m\n\u001b[1;32m    704\u001b[0m     \u001b[38;5;28;01mreturn\u001b[39;00m \u001b[38;5;28;01mFalse\u001b[39;00m\n\u001b[1;32m    706\u001b[0m osapipe\u001b[38;5;241m.\u001b[39mwrite(script)\n\u001b[0;32m--> 707\u001b[0m rc \u001b[38;5;241m=\u001b[39m \u001b[43mosapipe\u001b[49m\u001b[38;5;241;43m.\u001b[39;49m\u001b[43mclose\u001b[49m\u001b[43m(\u001b[49m\u001b[43m)\u001b[49m\n\u001b[1;32m    708\u001b[0m \u001b[38;5;28;01mreturn\u001b[39;00m \u001b[38;5;129;01mnot\u001b[39;00m rc\n",
      "File \u001b[0;32m<frozen os>:1006\u001b[0m, in \u001b[0;36mclose\u001b[0;34m(self)\u001b[0m\n",
      "File \u001b[0;32m/opt/homebrew/Cellar/python@3.11/3.11.8/Frameworks/Python.framework/Versions/3.11/lib/python3.11/subprocess.py:1264\u001b[0m, in \u001b[0;36mPopen.wait\u001b[0;34m(self, timeout)\u001b[0m\n\u001b[1;32m   1262\u001b[0m     endtime \u001b[38;5;241m=\u001b[39m _time() \u001b[38;5;241m+\u001b[39m timeout\n\u001b[1;32m   1263\u001b[0m \u001b[38;5;28;01mtry\u001b[39;00m:\n\u001b[0;32m-> 1264\u001b[0m     \u001b[38;5;28;01mreturn\u001b[39;00m \u001b[38;5;28;43mself\u001b[39;49m\u001b[38;5;241;43m.\u001b[39;49m\u001b[43m_wait\u001b[49m\u001b[43m(\u001b[49m\u001b[43mtimeout\u001b[49m\u001b[38;5;241;43m=\u001b[39;49m\u001b[43mtimeout\u001b[49m\u001b[43m)\u001b[49m\n\u001b[1;32m   1265\u001b[0m \u001b[38;5;28;01mexcept\u001b[39;00m \u001b[38;5;167;01mKeyboardInterrupt\u001b[39;00m:\n\u001b[1;32m   1266\u001b[0m     \u001b[38;5;66;03m# https://bugs.python.org/issue25942\u001b[39;00m\n\u001b[1;32m   1267\u001b[0m     \u001b[38;5;66;03m# The first keyboard interrupt waits briefly for the child to\u001b[39;00m\n\u001b[1;32m   1268\u001b[0m     \u001b[38;5;66;03m# exit under the common assumption that it also received the ^C\u001b[39;00m\n\u001b[1;32m   1269\u001b[0m     \u001b[38;5;66;03m# generated SIGINT and will exit rapidly.\u001b[39;00m\n\u001b[1;32m   1270\u001b[0m     \u001b[38;5;28;01mif\u001b[39;00m timeout \u001b[38;5;129;01mis\u001b[39;00m \u001b[38;5;129;01mnot\u001b[39;00m \u001b[38;5;28;01mNone\u001b[39;00m:\n",
      "File \u001b[0;32m/opt/homebrew/Cellar/python@3.11/3.11.8/Frameworks/Python.framework/Versions/3.11/lib/python3.11/subprocess.py:2051\u001b[0m, in \u001b[0;36mPopen._wait\u001b[0;34m(self, timeout)\u001b[0m\n\u001b[1;32m   2049\u001b[0m \u001b[38;5;28;01mif\u001b[39;00m \u001b[38;5;28mself\u001b[39m\u001b[38;5;241m.\u001b[39mreturncode \u001b[38;5;129;01mis\u001b[39;00m \u001b[38;5;129;01mnot\u001b[39;00m \u001b[38;5;28;01mNone\u001b[39;00m:\n\u001b[1;32m   2050\u001b[0m     \u001b[38;5;28;01mbreak\u001b[39;00m  \u001b[38;5;66;03m# Another thread waited.\u001b[39;00m\n\u001b[0;32m-> 2051\u001b[0m (pid, sts) \u001b[38;5;241m=\u001b[39m \u001b[38;5;28;43mself\u001b[39;49m\u001b[38;5;241;43m.\u001b[39;49m\u001b[43m_try_wait\u001b[49m\u001b[43m(\u001b[49m\u001b[38;5;241;43m0\u001b[39;49m\u001b[43m)\u001b[49m\n\u001b[1;32m   2052\u001b[0m \u001b[38;5;66;03m# Check the pid and loop as waitpid has been known to\u001b[39;00m\n\u001b[1;32m   2053\u001b[0m \u001b[38;5;66;03m# return 0 even without WNOHANG in odd situations.\u001b[39;00m\n\u001b[1;32m   2054\u001b[0m \u001b[38;5;66;03m# http://bugs.python.org/issue14396.\u001b[39;00m\n\u001b[1;32m   2055\u001b[0m \u001b[38;5;28;01mif\u001b[39;00m pid \u001b[38;5;241m==\u001b[39m \u001b[38;5;28mself\u001b[39m\u001b[38;5;241m.\u001b[39mpid:\n",
      "File \u001b[0;32m/opt/homebrew/Cellar/python@3.11/3.11.8/Frameworks/Python.framework/Versions/3.11/lib/python3.11/subprocess.py:2009\u001b[0m, in \u001b[0;36mPopen._try_wait\u001b[0;34m(self, wait_flags)\u001b[0m\n\u001b[1;32m   2007\u001b[0m \u001b[38;5;250m\u001b[39m\u001b[38;5;124;03m\"\"\"All callers to this function MUST hold self._waitpid_lock.\"\"\"\u001b[39;00m\n\u001b[1;32m   2008\u001b[0m \u001b[38;5;28;01mtry\u001b[39;00m:\n\u001b[0;32m-> 2009\u001b[0m     (pid, sts) \u001b[38;5;241m=\u001b[39m os\u001b[38;5;241m.\u001b[39mwaitpid(\u001b[38;5;28mself\u001b[39m\u001b[38;5;241m.\u001b[39mpid, wait_flags)\n\u001b[1;32m   2010\u001b[0m \u001b[38;5;28;01mexcept\u001b[39;00m \u001b[38;5;167;01mChildProcessError\u001b[39;00m:\n\u001b[1;32m   2011\u001b[0m     \u001b[38;5;66;03m# This happens if SIGCLD is set to be ignored or waiting\u001b[39;00m\n\u001b[1;32m   2012\u001b[0m     \u001b[38;5;66;03m# for child processes has otherwise been disabled for our\u001b[39;00m\n\u001b[1;32m   2013\u001b[0m     \u001b[38;5;66;03m# process.  This child is dead, we can't get the status.\u001b[39;00m\n\u001b[1;32m   2014\u001b[0m     pid \u001b[38;5;241m=\u001b[39m \u001b[38;5;28mself\u001b[39m\u001b[38;5;241m.\u001b[39mpid\n",
      "\u001b[0;31mKeyboardInterrupt\u001b[0m: "
     ]
    }
   ],
   "source": [
    "import webbrowser\n",
    "\n",
    "dfcpy = df.copy()\n",
    "\n",
    "# ---------------- eliminating deal breakers\n",
    "\n",
    "prev_len = len(dfcpy)\n",
    "dfcpy = dfcpy[dfcpy['needs_fix'] != True]\n",
    "print(f\"removed {prev_len - len(dfcpy)}: needs_fix flag\")\n",
    "\n",
    "prev_len = len(dfcpy)\n",
    "dfcpy = dfcpy[dfcpy['leased'] != True]\n",
    "print(f\"removed {prev_len - len(dfcpy)}: leased flag\")\n",
    "\n",
    "bad_words = [\n",
    "    \"unbefristet\",\n",
    "    \"vermietet\",\n",
    "    \"renovierung\",\n",
    "    \"sanierung\",\n",
    "]\n",
    "prev_len = len(dfcpy)\n",
    "for word in bad_words:\n",
    "    dfcpy = dfcpy[~dfcpy['bag_of_words'].str.contains(word, case=False)]\n",
    "print(f\"removed {prev_len - len(dfcpy)}: contained bad words\")\n",
    "\n",
    "# ---------------- optional filters\n",
    "\n",
    "# prev_len = len(dfcpy)\n",
    "# dfcpy = dfcpy[dfcpy['neubau'] == True]\n",
    "# print(f\"removed {prev_len - len(dfcpy)}: not neubau\")\n",
    "\n",
    "print(\"final:\", len(dfcpy))\n",
    "\n",
    "# ---------------- open in browser\n",
    "\n",
    "dfcpy = dfcpy.sort_values(by='price', ascending=True) # type: ignore\n",
    "urls = dfcpy['url'].tolist()\n",
    "counter = 0\n",
    "for url in urls:\n",
    "    print(f\"progress {counter/len(urls)*100:.2f}%\", end=\"\\r\")\n",
    "    webbrowser.open(url)\n",
    "    counter += 1\n"
   ]
  },
  {
   "cell_type": "markdown",
   "metadata": {},
   "source": [
    "# explore data"
   ]
  },
  {
   "cell_type": "code",
   "execution_count": 3,
   "metadata": {},
   "outputs": [
    {
     "data": {
      "image/png": "[encoded data removed]",
      "text/plain": [
       "<Figure size 640x480 with 1 Axes>"
      ]
     },
     "metadata": {},
     "output_type": "display_data"
    }
   ],
   "source": [
    "# price distribution\n",
    "\n",
    "import matplotlib.pyplot as plt\n",
    "\n",
    "plt.hist(df[\"price\"], bins=len(df) // 5, color=\"green\", alpha=0.5) \n",
    "plt.xlabel(\"EUR\")\n",
    "plt.ylabel(\"count\")\n",
    "plt.show()"
   ]
  },
  {
   "cell_type": "code",
   "execution_count": 4,
   "metadata": {},
   "outputs": [
    {
     "data": {
      "image/png": "[encoded data removed]",
      "text/plain": [
       "<Figure size 640x480 with 1 Axes>"
      ]
     },
     "metadata": {},
     "output_type": "display_data"
    }
   ],
   "source": [
    "# update distribution\n",
    "\n",
    "plt.hist(df[\"last_update\"], bins=len(df) // 5, color=\"blue\", alpha=0.5)\n",
    "plt.xticks(rotation=90)\n",
    "plt.ylabel(\"count\")\n",
    "plt.xlabel(\"last updates\")\n",
    "plt.show()"
   ]
  },
  {
   "cell_type": "code",
   "execution_count": 5,
   "metadata": {},
   "outputs": [
    {
     "data": {
      "image/png": "[encoded data removed]",
      "text/plain": [
       "<Figure size 640x480 with 1 Axes>"
      ]
     },
     "metadata": {},
     "output_type": "display_data"
    }
   ],
   "source": [
    "# district distribution\n",
    "\n",
    "plt.hist(df.sort_values(by=\"district\")[\"district\"], bins=len(df) // 10, color=\"red\", alpha=0.5)\n",
    "plt.xticks(rotation=90)\n",
    "plt.ylabel(\"count\")\n",
    "plt.xlabel(\"district\")\n",
    "plt.show()"
   ]
  },
  {
   "cell_type": "code",
   "execution_count": 6,
   "metadata": {},
   "outputs": [
    {
     "name": "stdout",
     "output_type": "stream",
     "text": [
      "needs fix: 24.94%\n"
     ]
    }
   ],
   "source": [
    "# needs_fix distribution\n",
    "\n",
    "print(f\"needs fix: {len(df[df['needs_fix'] == True]) / len(df) * 100:.2f}%\")"
   ]
  },
  {
   "cell_type": "code",
   "execution_count": 7,
   "metadata": {},
   "outputs": [
    {
     "name": "stdout",
     "output_type": "stream",
     "text": [
      "rooms\n",
      "1.0    300\n",
      "2.0     95\n",
      "3.0      2\n",
      "Name: count, dtype: int64\n"
     ]
    }
   ],
   "source": [
    "# room distribution\n",
    "\n",
    "df_cpy = df.copy()\n",
    "df_cpy[\"rooms\"] = df_cpy[\"rooms\"].apply(lambda x: x if x < 10 else 1)\n",
    "print(df_cpy[\"rooms\"].value_counts())"
   ]
  },
  {
   "cell_type": "code",
   "execution_count": null,
   "metadata": {},
   "outputs": [],
   "source": []
  }
 ],
 "metadata": {
  "kernelspec": {
   "display_name": "Python 3",
   "language": "python",
   "name": "python3"
  },
  "language_info": {
   "codemirror_mode": {
    "name": "ipython",
    "version": 3
   },
   "file_extension": ".py",
   "mimetype": "text/x-python",
   "name": "python",
   "nbconvert_exporter": "python",
   "pygments_lexer": "ipython3",
   "version": "3.11.8"
  }
 },
 "nbformat": 4,
 "nbformat_minor": 2
}
