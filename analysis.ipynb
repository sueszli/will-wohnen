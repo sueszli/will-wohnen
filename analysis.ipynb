{
 "cells": [
  {
   "cell_type": "code",
   "execution_count": 1,
   "metadata": {},
   "outputs": [
    {
     "name": "stdout",
     "output_type": "stream",
     "text": [
      "cleaning data...\n",
      "removing 17 rows with price >= 150000...\n",
      "removing 25 rows with invalid district...\n",
      "final length: 397\n"
     ]
    },
    {
     "data": {
      "text/html": [
       "<div>\n",
       "<style scoped>\n",
       "    .dataframe tbody tr th:only-of-type {\n",
       "        vertical-align: middle;\n",
       "    }\n",
       "\n",
       "    .dataframe tbody tr th {\n",
       "        vertical-align: top;\n",
       "    }\n",
       "\n",
       "    .dataframe thead th {\n",
       "        text-align: right;\n",
       "    }\n",
       "</style>\n",
       "<table border=\"1\" class=\"dataframe\">\n",
       "  <thead>\n",
       "    <tr style=\"text-align: right;\">\n",
       "      <th></th>\n",
       "      <th>url</th>\n",
       "      <th>last_update</th>\n",
       "      <th>price</th>\n",
       "      <th>district</th>\n",
       "      <th>bag_of_words</th>\n",
       "      <th>neubau</th>\n",
       "      <th>area</th>\n",
       "      <th>rooms</th>\n",
       "      <th>needs_fix</th>\n",
       "      <th>leased</th>\n",
       "    </tr>\n",
       "  </thead>\n",
       "  <tbody>\n",
       "    <tr>\n",
       "      <th>0</th>\n",
       "      <td>https://www.willhaben.at/iad/immobilien/d/eige...</td>\n",
       "      <td>2024-03-29 21:45:00</td>\n",
       "      <td>149900.0</td>\n",
       "      <td>1090</td>\n",
       "      <td>ehemalige hausbersorgerwohnung in u-bahn nähet...</td>\n",
       "      <td>False</td>\n",
       "      <td>30.04</td>\n",
       "      <td>1.0</td>\n",
       "      <td>True</td>\n",
       "      <td>None</td>\n",
       "    </tr>\n",
       "    <tr>\n",
       "      <th>1</th>\n",
       "      <td>https://www.willhaben.at/iad/immobilien/d/eige...</td>\n",
       "      <td>2024-04-03 13:57:00</td>\n",
       "      <td>129001.0</td>\n",
       "      <td>1100</td>\n",
       "      <td>tolle studentenwohnung- wohnen im herzen favor...</td>\n",
       "      <td>True</td>\n",
       "      <td>32.11</td>\n",
       "      <td>1.0</td>\n",
       "      <td>None</td>\n",
       "      <td>False</td>\n",
       "    </tr>\n",
       "    <tr>\n",
       "      <th>2</th>\n",
       "      <td>https://www.willhaben.at/iad/immobilien/d/eige...</td>\n",
       "      <td>2024-03-11 10:43:00</td>\n",
       "      <td>115000.0</td>\n",
       "      <td>1020</td>\n",
       "      <td>preiswerte zentrumsnahe altbaugarconniere mit ...</td>\n",
       "      <td>False</td>\n",
       "      <td>29.00</td>\n",
       "      <td>1.0</td>\n",
       "      <td>True</td>\n",
       "      <td>False</td>\n",
       "    </tr>\n",
       "    <tr>\n",
       "      <th>4</th>\n",
       "      <td>https://www.willhaben.at/iad/immobilien/d/eige...</td>\n",
       "      <td>2024-04-01 09:55:00</td>\n",
       "      <td>110000.0</td>\n",
       "      <td>1210</td>\n",
       "      <td># sq -sanierungsbedürftige  helle 1 zimmer woh...</td>\n",
       "      <td>False</td>\n",
       "      <td>31.31</td>\n",
       "      <td>1.0</td>\n",
       "      <td>False</td>\n",
       "      <td>None</td>\n",
       "    </tr>\n",
       "    <tr>\n",
       "      <th>5</th>\n",
       "      <td>https://www.willhaben.at/iad/immobilien/d/eige...</td>\n",
       "      <td>2024-04-01 07:04:00</td>\n",
       "      <td>112000.5</td>\n",
       "      <td>1160</td>\n",
       "      <td>leistbares wohnen - charmante altbauwohnung na...</td>\n",
       "      <td>False</td>\n",
       "      <td>28.08</td>\n",
       "      <td>1.0</td>\n",
       "      <td>False</td>\n",
       "      <td>False</td>\n",
       "    </tr>\n",
       "    <tr>\n",
       "      <th>...</th>\n",
       "      <td>...</td>\n",
       "      <td>...</td>\n",
       "      <td>...</td>\n",
       "      <td>...</td>\n",
       "      <td>...</td>\n",
       "      <td>...</td>\n",
       "      <td>...</td>\n",
       "      <td>...</td>\n",
       "      <td>...</td>\n",
       "      <td>...</td>\n",
       "    </tr>\n",
       "    <tr>\n",
       "      <th>433</th>\n",
       "      <td>https://www.willhaben.at/iad/immobilien/d/eige...</td>\n",
       "      <td>2024-04-05 09:25:00</td>\n",
       "      <td>104000.0</td>\n",
       "      <td>1100</td>\n",
       "      <td>sanierungsbedürftige wohnung im 3. og in zentr...</td>\n",
       "      <td>None</td>\n",
       "      <td>30.41</td>\n",
       "      <td>1.0</td>\n",
       "      <td>None</td>\n",
       "      <td>None</td>\n",
       "    </tr>\n",
       "    <tr>\n",
       "      <th>434</th>\n",
       "      <td>https://www.willhaben.at/iad/immobilien/d/eige...</td>\n",
       "      <td>2024-04-02 12:19:00</td>\n",
       "      <td>127000.0</td>\n",
       "      <td>1200</td>\n",
       "      <td>schicke kleine wohnung in hervorragender lagew...</td>\n",
       "      <td>False</td>\n",
       "      <td>NaN</td>\n",
       "      <td>1.0</td>\n",
       "      <td>None</td>\n",
       "      <td>False</td>\n",
       "    </tr>\n",
       "    <tr>\n",
       "      <th>436</th>\n",
       "      <td>https://www.willhaben.at/iad/immobilien/d/eige...</td>\n",
       "      <td>2024-04-04 13:56:00</td>\n",
       "      <td>129000.0</td>\n",
       "      <td>1110</td>\n",
       "      <td>perfekte starterwohnung in zentraler lage - 1 ...</td>\n",
       "      <td>True</td>\n",
       "      <td>NaN</td>\n",
       "      <td>1.0</td>\n",
       "      <td>False</td>\n",
       "      <td>False</td>\n",
       "    </tr>\n",
       "    <tr>\n",
       "      <th>437</th>\n",
       "      <td>https://www.willhaben.at/iad/immobilien/d/eige...</td>\n",
       "      <td>2024-03-12 09:37:00</td>\n",
       "      <td>149000.0</td>\n",
       "      <td>1090</td>\n",
       "      <td>ideales investment für anleger oder selbstnutz...</td>\n",
       "      <td>False</td>\n",
       "      <td>32.00</td>\n",
       "      <td>1.0</td>\n",
       "      <td>False</td>\n",
       "      <td>False</td>\n",
       "    </tr>\n",
       "    <tr>\n",
       "      <th>438</th>\n",
       "      <td>https://www.willhaben.at/iad/immobilien/d/eige...</td>\n",
       "      <td>2024-04-03 10:35:00</td>\n",
       "      <td>129000.0</td>\n",
       "      <td>1200</td>\n",
       "      <td>sanierte und bestandsfreie kleinwohnung in der...</td>\n",
       "      <td>False</td>\n",
       "      <td>29.74</td>\n",
       "      <td>1.0</td>\n",
       "      <td>False</td>\n",
       "      <td>None</td>\n",
       "    </tr>\n",
       "  </tbody>\n",
       "</table>\n",
       "<p>397 rows × 10 columns</p>\n",
       "</div>"
      ],
      "text/plain": [
       "                                                   url         last_update  \\\n",
       "0    https://www.willhaben.at/iad/immobilien/d/eige... 2024-03-29 21:45:00   \n",
       "1    https://www.willhaben.at/iad/immobilien/d/eige... 2024-04-03 13:57:00   \n",
       "2    https://www.willhaben.at/iad/immobilien/d/eige... 2024-03-11 10:43:00   \n",
       "4    https://www.willhaben.at/iad/immobilien/d/eige... 2024-04-01 09:55:00   \n",
       "5    https://www.willhaben.at/iad/immobilien/d/eige... 2024-04-01 07:04:00   \n",
       "..                                                 ...                 ...   \n",
       "433  https://www.willhaben.at/iad/immobilien/d/eige... 2024-04-05 09:25:00   \n",
       "434  https://www.willhaben.at/iad/immobilien/d/eige... 2024-04-02 12:19:00   \n",
       "436  https://www.willhaben.at/iad/immobilien/d/eige... 2024-04-04 13:56:00   \n",
       "437  https://www.willhaben.at/iad/immobilien/d/eige... 2024-03-12 09:37:00   \n",
       "438  https://www.willhaben.at/iad/immobilien/d/eige... 2024-04-03 10:35:00   \n",
       "\n",
       "        price district                                       bag_of_words  \\\n",
       "0    149900.0     1090  ehemalige hausbersorgerwohnung in u-bahn nähet...   \n",
       "1    129001.0     1100  tolle studentenwohnung- wohnen im herzen favor...   \n",
       "2    115000.0     1020  preiswerte zentrumsnahe altbaugarconniere mit ...   \n",
       "4    110000.0     1210  # sq -sanierungsbedürftige  helle 1 zimmer woh...   \n",
       "5    112000.5     1160  leistbares wohnen - charmante altbauwohnung na...   \n",
       "..        ...      ...                                                ...   \n",
       "433  104000.0     1100  sanierungsbedürftige wohnung im 3. og in zentr...   \n",
       "434  127000.0     1200  schicke kleine wohnung in hervorragender lagew...   \n",
       "436  129000.0     1110  perfekte starterwohnung in zentraler lage - 1 ...   \n",
       "437  149000.0     1090  ideales investment für anleger oder selbstnutz...   \n",
       "438  129000.0     1200  sanierte und bestandsfreie kleinwohnung in der...   \n",
       "\n",
       "    neubau   area  rooms needs_fix leased  \n",
       "0    False  30.04    1.0      True   None  \n",
       "1     True  32.11    1.0      None  False  \n",
       "2    False  29.00    1.0      True  False  \n",
       "4    False  31.31    1.0     False   None  \n",
       "5    False  28.08    1.0     False  False  \n",
       "..     ...    ...    ...       ...    ...  \n",
       "433   None  30.41    1.0      None   None  \n",
       "434  False    NaN    1.0      None  False  \n",
       "436   True    NaN    1.0     False  False  \n",
       "437  False  32.00    1.0     False  False  \n",
       "438  False  29.74    1.0     False   None  \n",
       "\n",
       "[397 rows x 10 columns]"
      ]
     },
     "execution_count": 1,
     "metadata": {},
     "output_type": "execute_result"
    }
   ],
   "source": [
    "from src.clean_data import get_cleaned_data\n",
    "\n",
    "df = get_cleaned_data()\n",
    "df"
   ]
  },
  {
   "cell_type": "markdown",
   "metadata": {},
   "source": [
    "# choose best"
   ]
  },
  {
   "cell_type": "code",
   "execution_count": 15,
   "metadata": {},
   "outputs": [
    {
     "name": "stdout",
     "output_type": "stream",
     "text": [
      "num results: 18\n"
     ]
    }
   ],
   "source": [
    "import webbrowser\n",
    "\n",
    "dfcpy = df.copy()\n",
    "\n",
    "dfcpy = dfcpy[dfcpy['needs_fix'] != True]\n",
    "dfcpy = dfcpy[dfcpy['leased'] != True]\n",
    "\n",
    "bad_words = [\n",
    "    \"unbefristet\",\n",
    "    \"vermietet\",\n",
    "    \"untervermietet\",\n",
    "    \"renovierungsbedürftig\",\n",
    "    \"renovierungsbedürftigen\",\n",
    "    \"sanierungsbedürftig\",\n",
    "    \"sanierungsbedürftigen\",\n",
    "    \"kaputt\"\n",
    "]\n",
    "for word in bad_words:\n",
    "    dfcpy = dfcpy[~dfcpy['bag_of_words'].str.contains(word, case=False)]\n",
    "\n",
    "\n",
    "dfcpy = dfcpy[dfcpy['neubau'] == True]\n",
    "\n",
    "dfcpy = dfcpy.sort_values(by='price', ascending=True)\n",
    "\n",
    "print(\"num results:\", len(dfcpy))\n",
    "\n",
    "for url in dfcpy['url']:\n",
    "    webbrowser.open(url)"
   ]
  },
  {
   "cell_type": "markdown",
   "metadata": {},
   "source": [
    "# explore data"
   ]
  },
  {
   "cell_type": "code",
   "execution_count": 3,
   "metadata": {},
   "outputs": [
    {
     "data": {
      "image/png": "[encoded data removed]",
      "text/plain": [
       "<Figure size 640x480 with 1 Axes>"
      ]
     },
     "metadata": {},
     "output_type": "display_data"
    }
   ],
   "source": [
    "# price distribution\n",
    "\n",
    "import matplotlib.pyplot as plt\n",
    "\n",
    "plt.hist(df[\"price\"], bins=len(df) // 5, color=\"green\", alpha=0.5) \n",
    "plt.xlabel(\"EUR\")\n",
    "plt.ylabel(\"count\")\n",
    "plt.show()"
   ]
  },
  {
   "cell_type": "code",
   "execution_count": 4,
   "metadata": {},
   "outputs": [
    {
     "data": {
      "image/png": "[encoded data removed]",
      "text/plain": [
       "<Figure size 640x480 with 1 Axes>"
      ]
     },
     "metadata": {},
     "output_type": "display_data"
    }
   ],
   "source": [
    "# update distribution\n",
    "\n",
    "plt.hist(df[\"last_update\"], bins=len(df) // 5, color=\"blue\", alpha=0.5)\n",
    "plt.xticks(rotation=90)\n",
    "plt.ylabel(\"count\")\n",
    "plt.xlabel(\"last updates\")\n",
    "plt.show()"
   ]
  },
  {
   "cell_type": "code",
   "execution_count": 5,
   "metadata": {},
   "outputs": [
    {
     "data": {
      "image/png": "[encoded data removed]",
      "text/plain": [
       "<Figure size 640x480 with 1 Axes>"
      ]
     },
     "metadata": {},
     "output_type": "display_data"
    }
   ],
   "source": [
    "# district distribution\n",
    "\n",
    "plt.hist(df.sort_values(by=\"district\")[\"district\"], bins=len(df) // 10, color=\"red\", alpha=0.5)\n",
    "plt.xticks(rotation=90)\n",
    "plt.ylabel(\"count\")\n",
    "plt.xlabel(\"district\")\n",
    "plt.show()"
   ]
  },
  {
   "cell_type": "code",
   "execution_count": 6,
   "metadata": {},
   "outputs": [
    {
     "name": "stdout",
     "output_type": "stream",
     "text": [
      "needs fix: 24.94%\n"
     ]
    }
   ],
   "source": [
    "# needs_fix distribution\n",
    "\n",
    "print(f\"needs fix: {len(df[df['needs_fix'] == True]) / len(df) * 100:.2f}%\")"
   ]
  },
  {
   "cell_type": "code",
   "execution_count": 7,
   "metadata": {},
   "outputs": [
    {
     "name": "stdout",
     "output_type": "stream",
     "text": [
      "rooms\n",
      "1.0    300\n",
      "2.0     95\n",
      "3.0      2\n",
      "Name: count, dtype: int64\n"
     ]
    }
   ],
   "source": [
    "# room distribution\n",
    "\n",
    "df_cpy = df.copy()\n",
    "df_cpy[\"rooms\"] = df_cpy[\"rooms\"].apply(lambda x: x if x < 10 else 1)\n",
    "print(df_cpy[\"rooms\"].value_counts())"
   ]
  },
  {
   "cell_type": "code",
   "execution_count": null,
   "metadata": {},
   "outputs": [],
   "source": []
  }
 ],
 "metadata": {
  "kernelspec": {
   "display_name": "Python 3",
   "language": "python",
   "name": "python3"
  },
  "language_info": {
   "codemirror_mode": {
    "name": "ipython",
    "version": 3
   },
   "file_extension": ".py",
   "mimetype": "text/x-python",
   "name": "python",
   "nbconvert_exporter": "python",
   "pygments_lexer": "ipython3",
   "version": "3.11.8"
  }
 },
 "nbformat": 4,
 "nbformat_minor": 2
}
