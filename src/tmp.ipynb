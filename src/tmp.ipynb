{
 "cells": [
  {
   "cell_type": "code",
   "execution_count": 18,
   "metadata": {},
   "outputs": [
    {
     "name": "stdout",
     "output_type": "stream",
     "text": [
      "{\n",
      "    \"Ablöse\": \"\",\n",
      "    \"Ausbaustufe\": \"\",\n",
      "    \"Balkon\": \"\",\n",
      "    \"Bautyp\": \"Neubau\",\n",
      "    \"Betriebskosten (exkl. MWSt)\": \"\",\n",
      "    \"Betriebskosten (inkl. MWSt)\": \"\",\n",
      "    \"Böden\": \"\",\n",
      "    \"Dachterrasse\": \"\",\n",
      "    \"Fertigstellung\": \"\",\n",
      "    \"Garten\": \"\",\n",
      "    \"Gesamtfläche\": \"\",\n",
      "    \"Grundfläche\": \"\",\n",
      "    \"Heizkosten (exkl. MWSt)\": \"\",\n",
      "    \"Heizung\": \"\",\n",
      "    \"Loggia\": \"\",\n",
      "    \"Maklerprovision:\": \"20910.0\",\n",
      "    \"Miete\": \"\",\n",
      "    \"Monatliche Kosten (MWSt)\": \"\",\n",
      "    \"Monatliche Kosten (inkl. MWSt)\": \"541.63\",\n",
      "    \"Nutzfläche\": \"84.04\",\n",
      "    \"Objekttyp\": \"Maisonette\",\n",
      "    \"Sonstige Kosten (exkl. MWSt)\": \"198.0\",\n",
      "    \"Status\": \"\",\n",
      "    \"Stockwerk(e)\": \"7\",\n",
      "    \"Terrasse\": \"21.0\",\n",
      "    \"Topnummer\": \"\",\n",
      "    \"Verfügbar\": \"\",\n",
      "    \"Wintergarten\": \"\",\n",
      "    \"Wohnbauförderung:\": \"\",\n",
      "    \"Wohneinheiten\": \"\",\n",
      "    \"Wohnfläche\": \"84.04\",\n",
      "    \"Zimmer\": \"3.0\",\n",
      "    \"Zusatzinformation:\": \"\",\n",
      "    \"Zustand\": \"Neuwertig\",\n",
      "    \"company_address\": \"Döblinger Hauptstraße 32/GL21190 Wien, 19. Bezirk, Döbling\",\n",
      "    \"company_broker_name\": \"Peter Führer\",\n",
      "    \"company_name\": \"Pecosa Property GmbH\",\n",
      "    \"company_reference_id\": \"619\",\n",
      "    \"company_url\": \"http://www.pecosa.at\",\n",
      "    \"description_additional\": \"Stockwerk: 7. Etage / 7 Etage & DGStiege: 1Anzahl Badezimmer: 2Energiepass HWB: 32 kWh/m²/JahrVerfügbar ab: sofortBaujahr: 2015Anzahl WC: 2\",\n",
      "    \"description_equipment\": \"Terrassenanzahl:4Terrassenfläche: 21 m²Barrierefrei\",\n",
      "    \"description_general\": \"DG-Wohnung mit Dachterrasse und InnenstadtblickDie Wohnung bietet einen atemberaubenden Blick über die Dächer Wiens, vom neuen DC Tower über den Stephansdom bis zum Wienerwald. Jedoch ist dies nicht die einzige Besonderheit, welche die Wohnung glänzen lässt. Es handelt sich dabei um eine einzigartige ca. 84 m² große, 3-Zimmer Eigentumswohnung im Dachgeschoß des Neubauprojekts Stolberggasse 18, 1050 Wien.Bei der Gestaltung der Wohnung wurde auf eine großzügige Gestaltung sowie eine optimale Verbindung der Räume geachtet. Betreten Sie die Wohnung vom Treppenhaus im 7.OG oder steigen Sie bequem aus dem Lift in Ihr Wohnzimmer und genießen Sie den Panoramablick über die Stadt. Das Penthouse verfügt über zwei Ebenen und besteht im Dachgeschoß aus einer ca. 34 m² großen Wohnküche, mit zwei anschließende Terrassen (ca. 11 m² groß), einem ca. 11 m² großen Schlafzimmer mit direkter Verbindung zum ebenfalls verglasten ca. 7 m² großen Badezimmer mit Badewanne sowie zwei anschließenden Terrassen (ca. 10 m² groß) und dem ca. 6 m² großen Schrankraum, sowie einem separatem WC. Im 7. Obergschoß befindet sich ein ca. 7 m² großer Vorraum mit Staumöglichkeit und der Treppe ins Dachgeschoß, ein weiteres Südost orientiertes ca. 10 m² großes Zimmer und ein zweites Bad mit Dusche, WC und Waschmaschinenanschluss.Das Objekt wird wie es liegt und steht im Edelrohbau übergeben. Durch die großflächigen Alu-Fenster, mit 3-Scheiben-Isolier-Wärmeschutzverglasung, ist eine optimale Belichtung bei behaglicher Wärme gegeben. Stilsicher wird auf eine Fußbodenheizung gesetzt, um einen gehobenen Wohnkomfort zu gewährleisten. Durch die inkludierte Außenbeschattung und Klimaanlage behalten Sie auch an heißen Tagen einen kühlen Kopf. Durch die Süd-Nord-Ausrichtung der Wohnung ist eine Querdurchlüftung möglich. Die Eingangstüre der Wohnung wird als Sicherheitstüre mit Sicherheitstürblatt, Zylinderschloss und Türspion ausgeführt. Ein eigenes Kellerabteil ist vorhanden. Der Hauslift befördert Sie bequem von Ihrem Penthouse zu Ihrem KFZ-Abstellplatz im Untergeschoß der Anlage. Ein KFZ-Abstellplatz könnte separat um EUR 20.000.-- erworben werden.Die Wohnhausanlage setzt sich aus 23 Wohneinheiten auf zwei Stiegenhäusern zusammen und ist daher ein kleineres Projekt. Den großteils eigengenutzten Wohnungen stehen im Hof und im Erdgeschoß zahlreiche Abstellmöglichkeiten für Fahrräder und Kinderwägen zur Verfügung. Im Bereich der Stiege 2 befindet sich eine allgemeine Grünfläche.Innenstadtlage mit perfekter NahversorgungDas Neubauprojekt liegt im pulsierenden Bezirk Margareten. Durch die Nähe zur Wiedner Haupstraße, eine der beliebtesten Einkaufsstraßen Wiens, und umliegende Supermärkte verfügt das Objekt über eine optimale Nahversorgung. Das unmittelaber Gastronomieangebot reicht von Rudis Beisl über das Schlossquadrat bis zum Wiener Szenelokal Motto. Der Standort in der Stolberggase ist aufgrund der Nähe zur Wiener Innenstadt ein idealer Ausgangspunkt für kulturelle Aktivitäten. Der Karlsplatz kann mit öffentlichem Verkehrsmittel innerhalb von 10 Minuten erreicht werden. Für eine öffentliche Anbindung stehen neben der Badnerbahn, Straßenbahnlinien 1 und 62 auch die Buslinien 12A, 14A und 59A zur Verfügung. Auch die U4-Station Pilgrammgasse kann fußläufig rasch erreicht werden.Die Stadt Wien arbeitet laufend an der Verbesserung des öffentlichen Verkehrsnetzes. Derzeitige Pläne sehen die Situierung einer U-Bahnstation der geplanten Linie U5 in der Wimmergasse vor. Diese ist nur zwei Häuserblöcke von der Liegenschaft entfernt. Weitere Informationen zum Ausbau der Wiener U-Bahn finden Sie unter: wiener-untergrund.at.Details+ ca. 84 m² große 3 Zimmer Eigentumswohnung im Dachgeschoß + Unverbaubarem Fernblick über die Wiener Dachlandschaft + ca. 34 m² große Wohnküche mit anschließenden Terrassen + Schlafzimmer mit anschließendem Badezimmer und Schrankraum + zwei Bäder und ein separates WC mit Handwaschbecken + integrierte Beschattung und Klimaanlage + Aufzugzugang im WohnzimmerNebenkosten+ 3,50% Grunderwerbssteuer + 1,10% Eintragungsgebühr + 1,10% + 20% USt. Vertragserrichtung + Barauslagen & TreuhandgebührDie Wohnanlage wurde 2016 fertiggestellt. Das Objekt aber noch nie bezogen.Der Vermittler ist als Doppelmakler tätig.\",\n",
      "    \"description_location\": \"Region: Wiedner HauptstraßeInfrastruktur / EntfernungenGesundheitArzt <250mApotheke <250mKlinik <750mKrankenhaus <250mKinder / SchulenSchule <500mKindergarten <500mUniversität <250mHöhere Schule <750mNahversorgungSupermarkt <250mBäckerei <250mEinkaufszentrum <500mVerkehrU-Bahn <500mBahnhof <1000mAutobahnanschluss <3250mSonstigeBank <250mPost <500mPolizei <500m\",\n",
      "    \"total_additional_costs\": \"1448.02\",\n",
      "    \"energy_certificate\": \"B\",\n",
      "    \"last_update\": \"02.08.2024 03:19\",\n",
      "    \"address\": \"1050 Wien, 05. Bezirk, Margareten, Stolberggasse\",\n",
      "    \"price\": \"697000.0\",\n",
      "    \"title\": \"Extravagantes Penthouse / Maisonette, unverbaubarer Blick über die Dächerlandschaft Wiens ERSTBEZUG\",\n",
      "    \"type\": \"Terrasse, Dachterrasse\",\n",
      "    \"url\": \"https://www.willhaben.at/iad/immobilien/d/eigentumswohnung/wien/wien-1050-margareten/extravagantes-penthouse-maisonette-unverbaubarer-blick-ueber-die-daecherlandschaft-wiens-erstbezug-1259657876/\"\n",
      "}\n"
     ]
    }
   ],
   "source": [
    "import json\n",
    "import csv\n",
    "import glob\n",
    "from pathlib import Path\n",
    "\n",
    "inputpath = glob.glob(str(Path.cwd().parent / \"data\" / \"pages_*.csv\"))\n",
    "inputpath = list(filter(lambda p: Path(p).name.startswith(\"pages_\") and Path(p).name.endswith(\".csv\"), inputpath))\n",
    "assert len(inputpath) > 0\n",
    "inputpath.sort()\n",
    "inputpath = inputpath[-1]\n",
    "inputfile = list(csv.reader(open(inputpath, \"r\")))\n",
    "header = [word for word in inputfile[0]]\n",
    "body = inputfile[1:]\n",
    "\n",
    "# turn to jsons\n",
    "for row in body:\n",
    "    print(json.dumps(dict(zip(header, row)), ensure_ascii=False, indent=4))\n",
    "    break"
   ]
  },
  {
   "cell_type": "code",
   "execution_count": null,
   "metadata": {},
   "outputs": [],
   "source": []
  }
 ],
 "metadata": {
  "kernelspec": {
   "display_name": ".venv",
   "language": "python",
   "name": "python3"
  },
  "language_info": {
   "codemirror_mode": {
    "name": "ipython",
    "version": 3
   },
   "file_extension": ".py",
   "mimetype": "text/x-python",
   "name": "python",
   "nbconvert_exporter": "python",
   "pygments_lexer": "ipython3",
   "version": "3.11.9"
  }
 },
 "nbformat": 4,
 "nbformat_minor": 2
}
