{
 "cells": [
  {
   "cell_type": "markdown",
   "metadata": {},
   "source": [
    "run `tar -xzf data.tar.gz -C .` to extract the data."
   ]
  },
  {
   "cell_type": "code",
   "execution_count": null,
   "metadata": {},
   "outputs": [],
   "source": []
  }
 ],
 "metadata": {
  "language_info": {
   "name": "python"
  }
 },
 "nbformat": 4,
 "nbformat_minor": 2
}
