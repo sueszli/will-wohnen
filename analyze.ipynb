{
 "cells": [
  {
   "cell_type": "markdown",
   "metadata": {},
   "source": [
    "data: willhaben: apartments for sale in vienna (no other filters)"
   ]
  },
  {
   "cell_type": "code",
   "execution_count": 59,
   "metadata": {},
   "outputs": [
    {
     "name": "stdout",
     "output_type": "stream",
     "text": [
      "reading /Users/sueszli/dev/will-wohnen/data/links_2024-05-24_19-49-57.csv\n",
      "541\n"
     ]
    },
    {
     "data": {
      "text/html": [
       "<div>\n",
       "<style scoped>\n",
       "    .dataframe tbody tr th:only-of-type {\n",
       "        vertical-align: middle;\n",
       "    }\n",
       "\n",
       "    .dataframe tbody tr th {\n",
       "        vertical-align: top;\n",
       "    }\n",
       "\n",
       "    .dataframe thead th {\n",
       "        text-align: right;\n",
       "    }\n",
       "</style>\n",
       "<table border=\"1\" class=\"dataframe\">\n",
       "  <thead>\n",
       "    <tr style=\"text-align: right;\">\n",
       "      <th></th>\n",
       "      <th>url</th>\n",
       "      <th>title</th>\n",
       "      <th>address</th>\n",
       "      <th>price</th>\n",
       "      <th>area</th>\n",
       "      <th>rooms</th>\n",
       "      <th>type</th>\n",
       "    </tr>\n",
       "  </thead>\n",
       "  <tbody>\n",
       "    <tr>\n",
       "      <th>0</th>\n",
       "      <td>link</td>\n",
       "      <td>title</td>\n",
       "      <td>address</td>\n",
       "      <td>price</td>\n",
       "      <td>m2</td>\n",
       "      <td>num_rooms</td>\n",
       "      <td>NaN</td>\n",
       "    </tr>\n",
       "    <tr>\n",
       "      <th>1</th>\n",
       "      <td>https://www.willhaben.at/iad/immobilien/d/eige...</td>\n",
       "      <td>2 Zimmer Genossenschaftswohnung Weitergabe - S...</td>\n",
       "      <td>1100 Wien, 10. Bezirk, Favoriten, Gußriegelstr...</td>\n",
       "      <td>€ 504,79</td>\n",
       "      <td>59 m²</td>\n",
       "      <td>2 Zimmer</td>\n",
       "      <td>NaN</td>\n",
       "    </tr>\n",
       "    <tr>\n",
       "      <th>2</th>\n",
       "      <td>https://www.willhaben.at/iad/immobilien/d/eige...</td>\n",
       "      <td>Nähe Augarten! 68m², 2 Zimmer</td>\n",
       "      <td>1020 Wien, 02. Bezirk, Leopoldstadt</td>\n",
       "      <td>€ 299.000</td>\n",
       "      <td>68 m²</td>\n",
       "      <td>2 Zimmer</td>\n",
       "      <td>NaN</td>\n",
       "    </tr>\n",
       "    <tr>\n",
       "      <th>3</th>\n",
       "      <td>https://www.willhaben.at/iad/immobilien/d/eige...</td>\n",
       "      <td>Gemütliche Altbauwohnung mit stilvollem Balkon</td>\n",
       "      <td>1090 Wien, 09. Bezirk, Alsergrund</td>\n",
       "      <td>€ 415.000</td>\n",
       "      <td>43 m²</td>\n",
       "      <td>2 Zimmer</td>\n",
       "      <td>Balkon</td>\n",
       "    </tr>\n",
       "    <tr>\n",
       "      <th>4</th>\n",
       "      <td>https://www.willhaben.at/iad/immobilien/d/eige...</td>\n",
       "      <td>++Q18++ sanierungsbedürftige 1-Zimmer Altbauwo...</td>\n",
       "      <td>1100 Wien, 10. Bezirk, Favoriten, Quellenstraße</td>\n",
       "      <td>€ 89.000</td>\n",
       "      <td>29 m²</td>\n",
       "      <td>1 Zimmer</td>\n",
       "      <td>NaN</td>\n",
       "    </tr>\n",
       "  </tbody>\n",
       "</table>\n",
       "</div>"
      ],
      "text/plain": [
       "                                                 url  \\\n",
       "0                                               link   \n",
       "1  https://www.willhaben.at/iad/immobilien/d/eige...   \n",
       "2  https://www.willhaben.at/iad/immobilien/d/eige...   \n",
       "3  https://www.willhaben.at/iad/immobilien/d/eige...   \n",
       "4  https://www.willhaben.at/iad/immobilien/d/eige...   \n",
       "\n",
       "                                               title  \\\n",
       "0                                              title   \n",
       "1  2 Zimmer Genossenschaftswohnung Weitergabe - S...   \n",
       "2                      Nähe Augarten! 68m², 2 Zimmer   \n",
       "3     Gemütliche Altbauwohnung mit stilvollem Balkon   \n",
       "4  ++Q18++ sanierungsbedürftige 1-Zimmer Altbauwo...   \n",
       "\n",
       "                                             address      price   area  \\\n",
       "0                                            address      price     m2   \n",
       "1  1100 Wien, 10. Bezirk, Favoriten, Gußriegelstr...   € 504,79  59 m²   \n",
       "2                1020 Wien, 02. Bezirk, Leopoldstadt  € 299.000  68 m²   \n",
       "3                  1090 Wien, 09. Bezirk, Alsergrund  € 415.000  43 m²   \n",
       "4    1100 Wien, 10. Bezirk, Favoriten, Quellenstraße   € 89.000  29 m²   \n",
       "\n",
       "       rooms    type  \n",
       "0  num_rooms     NaN  \n",
       "1   2 Zimmer     NaN  \n",
       "2   2 Zimmer     NaN  \n",
       "3   2 Zimmer  Balkon  \n",
       "4   1 Zimmer     NaN  "
      ]
     },
     "execution_count": 59,
     "metadata": {},
     "output_type": "execute_result"
    }
   ],
   "source": [
    "from pathlib import Path\n",
    "import pandas as pd\n",
    "import numpy as np\n",
    "\n",
    "\n",
    "files = (Path.cwd() / \"data\").iterdir()\n",
    "files = sorted(files, key=lambda x: x.name)\n",
    "file = files[-1]\n",
    "print(f\"reading {file}\")\n",
    "\n",
    "df = pd.read_csv(file, delimiter=\";\", names=['url', 'title', 'address', 'price', 'area', 'rooms', 'type'])\n",
    "\n",
    "print(len(df))\n",
    "df.head()"
   ]
  },
  {
   "cell_type": "code",
   "execution_count": 25,
   "metadata": {},
   "outputs": [
    {
     "data": {
      "text/plain": [
       "2610"
      ]
     },
     "execution_count": 25,
     "metadata": {},
     "output_type": "execute_result"
    }
   ],
   "source": [
    "df = df.copy()\n",
    "\n",
    "\n"
   ]
  },
  {
   "cell_type": "code",
   "execution_count": null,
   "metadata": {},
   "outputs": [],
   "source": []
  }
 ],
 "metadata": {
  "kernelspec": {
   "display_name": "Python 3",
   "language": "python",
   "name": "python3"
  },
  "language_info": {
   "codemirror_mode": {
    "name": "ipython",
    "version": 3
   },
   "file_extension": ".py",
   "mimetype": "text/x-python",
   "name": "python",
   "nbconvert_exporter": "python",
   "pygments_lexer": "ipython3",
   "version": "3.11.9"
  }
 },
 "nbformat": 4,
 "nbformat_minor": 2
}
