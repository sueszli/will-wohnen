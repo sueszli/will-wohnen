{
 "cells": [
  {
   "cell_type": "markdown",
   "metadata": {},
   "source": [
    "data: willhaben: apartments for sale in vienna (no other filters)"
   ]
  },
  {
   "cell_type": "code",
   "execution_count": 33,
   "metadata": {},
   "outputs": [
    {
     "name": "stdout",
     "output_type": "stream",
     "text": [
      "reading /Users/sueszli/dev/will-wohnen/data/links_2024-05-24_19-19-36.csv\n",
      "3150\n"
     ]
    },
    {
     "data": {
      "text/html": [
       "<div>\n",
       "<style scoped>\n",
       "    .dataframe tbody tr th:only-of-type {\n",
       "        vertical-align: middle;\n",
       "    }\n",
       "\n",
       "    .dataframe tbody tr th {\n",
       "        vertical-align: top;\n",
       "    }\n",
       "\n",
       "    .dataframe thead th {\n",
       "        text-align: right;\n",
       "    }\n",
       "</style>\n",
       "<table border=\"1\" class=\"dataframe\">\n",
       "  <thead>\n",
       "    <tr style=\"text-align: right;\">\n",
       "      <th></th>\n",
       "      <th>link</th>\n",
       "      <th>title</th>\n",
       "      <th>subheader</th>\n",
       "      <th>price</th>\n",
       "      <th>size</th>\n",
       "      <th>num_rooms</th>\n",
       "      <th>type</th>\n",
       "    </tr>\n",
       "  </thead>\n",
       "  <tbody>\n",
       "    <tr>\n",
       "      <th>0</th>\n",
       "      <td>https://www.willhaben.at/iad/immobilien/d/eige...</td>\n",
       "      <td>PROVISIONSFREI! ERSTBEZUG! 29. STOCK! HELL! RU...</td>\n",
       "      <td>NaN</td>\n",
       "      <td>€ 379.800</td>\n",
       "      <td>50 m²</td>\n",
       "      <td>2 Zimmer</td>\n",
       "      <td>Balkon, Loggia</td>\n",
       "    </tr>\n",
       "    <tr>\n",
       "      <th>1</th>\n",
       "      <td>https://www.willhaben.at/iad/immobilien/d/eige...</td>\n",
       "      <td>Wohnung in absoluter Ruhelage mit Grünblick un...</td>\n",
       "      <td>NaN</td>\n",
       "      <td>€ 299.000,25</td>\n",
       "      <td>50 m²</td>\n",
       "      <td>2 Zimmer</td>\n",
       "      <td>Balkon, Loggia</td>\n",
       "    </tr>\n",
       "    <tr>\n",
       "      <th>2</th>\n",
       "      <td>https://www.willhaben.at/iad/immobilien/d/eige...</td>\n",
       "      <td>Perfekte Starterwohnung in historischem Altbau...</td>\n",
       "      <td>NaN</td>\n",
       "      <td>€ 350.000,44</td>\n",
       "      <td>65 m²</td>\n",
       "      <td>2 Zimmer</td>\n",
       "      <td>NaN</td>\n",
       "    </tr>\n",
       "    <tr>\n",
       "      <th>3</th>\n",
       "      <td>https://www.willhaben.at/iad/immobilien/d/eige...</td>\n",
       "      <td>Ruhepol in Aspern - Moderne 2-Zimmer Wohnung m...</td>\n",
       "      <td>NaN</td>\n",
       "      <td>€ 425.000,25</td>\n",
       "      <td>56 m²</td>\n",
       "      <td>2 Zimmer</td>\n",
       "      <td>Terrasse, Garten</td>\n",
       "    </tr>\n",
       "    <tr>\n",
       "      <th>4</th>\n",
       "      <td>https://www.willhaben.at/iad/immobilien/d/eige...</td>\n",
       "      <td>Unbefristet vermietete Wohnung bei der U4-Frie...</td>\n",
       "      <td>NaN</td>\n",
       "      <td>€ 120.000,71</td>\n",
       "      <td>26 m²</td>\n",
       "      <td>1 Zimmer</td>\n",
       "      <td>NaN</td>\n",
       "    </tr>\n",
       "  </tbody>\n",
       "</table>\n",
       "</div>"
      ],
      "text/plain": [
       "                                                link  \\\n",
       "0  https://www.willhaben.at/iad/immobilien/d/eige...   \n",
       "1  https://www.willhaben.at/iad/immobilien/d/eige...   \n",
       "2  https://www.willhaben.at/iad/immobilien/d/eige...   \n",
       "3  https://www.willhaben.at/iad/immobilien/d/eige...   \n",
       "4  https://www.willhaben.at/iad/immobilien/d/eige...   \n",
       "\n",
       "                                               title  subheader         price  \\\n",
       "0  PROVISIONSFREI! ERSTBEZUG! 29. STOCK! HELL! RU...        NaN     € 379.800   \n",
       "1  Wohnung in absoluter Ruhelage mit Grünblick un...        NaN  € 299.000,25   \n",
       "2  Perfekte Starterwohnung in historischem Altbau...        NaN  € 350.000,44   \n",
       "3  Ruhepol in Aspern - Moderne 2-Zimmer Wohnung m...        NaN  € 425.000,25   \n",
       "4  Unbefristet vermietete Wohnung bei der U4-Frie...        NaN  € 120.000,71   \n",
       "\n",
       "    size num_rooms              type  \n",
       "0  50 m²  2 Zimmer    Balkon, Loggia  \n",
       "1  50 m²  2 Zimmer    Balkon, Loggia  \n",
       "2  65 m²  2 Zimmer               NaN  \n",
       "3  56 m²  2 Zimmer  Terrasse, Garten  \n",
       "4  26 m²  1 Zimmer               NaN  "
      ]
     },
     "execution_count": 33,
     "metadata": {},
     "output_type": "execute_result"
    }
   ],
   "source": [
    "from pathlib import Path\n",
    "import pandas as pd\n",
    "import numpy as np\n",
    "\n",
    "\n",
    "files = (Path.cwd() / \"data\").iterdir()\n",
    "files = sorted(files, key=lambda x: x.name)\n",
    "file = files[0]\n",
    "print(f\"reading {file}\")\n",
    "\n",
    "df = pd.read_csv(file, sep=\";\")\n",
    "\n",
    "print(len(df))\n",
    "df.head()"
   ]
  },
  {
   "cell_type": "code",
   "execution_count": 25,
   "metadata": {},
   "outputs": [
    {
     "data": {
      "text/plain": [
       "2610"
      ]
     },
     "execution_count": 25,
     "metadata": {},
     "output_type": "execute_result"
    }
   ],
   "source": [
    "df = df.copy()\n",
    "\n",
    "\n"
   ]
  },
  {
   "cell_type": "code",
   "execution_count": null,
   "metadata": {},
   "outputs": [],
   "source": []
  }
 ],
 "metadata": {
  "kernelspec": {
   "display_name": "Python 3",
   "language": "python",
   "name": "python3"
  },
  "language_info": {
   "codemirror_mode": {
    "name": "ipython",
    "version": 3
   },
   "file_extension": ".py",
   "mimetype": "text/x-python",
   "name": "python",
   "nbconvert_exporter": "python",
   "pygments_lexer": "ipython3",
   "version": "3.11.9"
  }
 },
 "nbformat": 4,
 "nbformat_minor": 2
}
